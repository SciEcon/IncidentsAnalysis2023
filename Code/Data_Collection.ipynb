{
  "nbformat": 4,
  "nbformat_minor": 0,
  "metadata": {
    "colab": {
      "provenance": []
    },
    "kernelspec": {
      "name": "python3",
      "display_name": "Python 3"
    },
    "language_info": {
      "name": "python"
    }
  },
  "cells": [
    {
      "cell_type": "markdown",
      "source": [
        "Please refer to Flipsidecrypto to collected data\n",
        "https://flipsidecrypto.xyz/\n",
        "\n",
        "Our code was forked from https://flipsidecrypto.xyz/siavashj/q/1sPLGdSteDlQ\n",
        "and fixed already."
      ],
      "metadata": {
        "id": "1eG6PJnE9opT"
      }
    },
    {
      "cell_type": "markdown",
      "source": [
        "# Price"
      ],
      "metadata": {
        "id": "eDYDF4bJ-uXE"
      }
    },
    {
      "cell_type": "markdown",
      "source": [
        "https://flipsidecrypto.xyz/edit/queries/4f0eddd4-78d3-4d70-a885-2cf05569e511"
      ],
      "metadata": {
        "id": "v_7_CJgL_JQ7"
      }
    },
    {
      "cell_type": "code",
      "source": [
        " select\n",
        " date_trunc('day',hour) as daily,\n",
        " avg(price) as \"Price\"\n",
        "from ethereum.price.ez_hourly_token_prices\n",
        "where symbol ilike 'WETH'\n",
        "group by 1\n",
        "order by daily"
      ],
      "metadata": {
        "id": "3sEYgscn9xH9"
      },
      "execution_count": null,
      "outputs": []
    },
    {
      "cell_type": "markdown",
      "source": [
        "# Transaction Flow"
      ],
      "metadata": {
        "id": "l3fyjbkqzTYB"
      }
    },
    {
      "cell_type": "markdown",
      "source": [
        "## DEX --> CEX"
      ],
      "metadata": {
        "id": "DYuBuCP-zYr7"
      }
    },
    {
      "cell_type": "markdown",
      "source": [
        "https://flipsidecrypto.xyz/edit/queries/33aeec6c-3aaf-4eff-bc32-7348ddd51acc"
      ],
      "metadata": {
        "id": "B6SyxLzs_eAE"
      }
    },
    {
      "cell_type": "code",
      "source": [
        "WITH cexs AS (\n",
        "    SELECT\n",
        "        address AS cex_a,\n",
        "        label AS cex\n",
        "    FROM ethereum.core.dim_labels\n",
        "    WHERE label_type = 'cex'\n",
        "),\n",
        "dexs AS (\n",
        "    SELECT\n",
        "        address AS dex_a,\n",
        "        label AS dex\n",
        "    FROM ethereum.core.dim_labels\n",
        "    WHERE label_type = 'dex'\n",
        ")\n",
        "SELECT\n",
        "    DATE_TRUNC('day', block_timestamp) AS date,\n",
        "    COUNT(DISTINCT tx_hash) AS n_transfer,\n",
        "    COUNT(origin_from_address) AS user,\n",
        "    SUM(amount_usd) AS amount_usd,\n",
        "    SUM(amount) AS amount_eth,\n",
        "    cex,\n",
        "    cex_a AS cex_address,\n",
        "    dex\n",
        "FROM\n",
        "    ethereum.core.ez_token_transfers\n",
        "JOIN cexs c ON to_address = cex_a\n",
        "JOIN dexs ON from_address = dex_a\n",
        "WHERE\n",
        "    symbol = 'WETH'\n",
        "    AND DATE_TRUNC('day', block_timestamp) >= '2021-01-01'\n",
        "    AND DATE_TRUNC('day', block_timestamp) < '2023-07-01'\n",
        "GROUP BY 1, 6, 7, 8\n",
        "ORDER BY date;"
      ],
      "metadata": {
        "id": "3SuEz1OW_RVy"
      },
      "execution_count": null,
      "outputs": []
    },
    {
      "cell_type": "markdown",
      "source": [
        "## CEX --> DEX"
      ],
      "metadata": {
        "id": "58CA0RO90gtk"
      }
    },
    {
      "cell_type": "markdown",
      "source": [
        "https://flipsidecrypto.xyz/edit/queries/517725e2-a981-4d3e-8ae0-719d6eee2a8f"
      ],
      "metadata": {
        "id": "-cOWEPu1_Tl4"
      }
    },
    {
      "cell_type": "code",
      "source": [
        " with cexs as (\n",
        "select\n",
        " address as cex_a,\n",
        " label as cex\n",
        "from ethereum.core.dim_labels\n",
        "where label_type = 'cex'\n",
        "),\n",
        "dexs as (\n",
        "select\n",
        " address as dex_a,\n",
        " label as dex\n",
        "from ethereum.core.dim_labels\n",
        "where label_type = 'dex'\n",
        ")\n",
        "select\n",
        " date_trunc('day',block_timestamp) as date,\n",
        " count(distinct tx_hash) as n_transfer,\n",
        " count(origin_from_address) as User,\n",
        " sum(amount_usd) as amount_usd,\n",
        " sum(amount) as amount_eth,\n",
        " cex,\n",
        " dex\n",
        "from ethereum.core.ez_token_transfers join cexs c\n",
        " on from_address = cex_a\n",
        "  join dexs on to_address = dex_a\n",
        "WHERE symbol = 'WETH'\n",
        "    AND DATE_TRUNC('day', block_timestamp) >= '2021-01-01'\n",
        "    AND DATE_TRUNC('day', block_timestamp) < '2023-07-02'\n",
        "group by 1,6,7\n",
        "ORDER BY date;\n"
      ],
      "metadata": {
        "id": "MQxHPcf__PuS"
      },
      "execution_count": null,
      "outputs": []
    },
    {
      "cell_type": "markdown",
      "source": [
        "## NetFlow"
      ],
      "metadata": {
        "id": "57PUmOH5JSeP"
      }
    },
    {
      "cell_type": "markdown",
      "source": [
        "https://flipsidecrypto.xyz/edit/queries/de15f934-259c-46a2-8440-915d1726b412"
      ],
      "metadata": {
        "id": "CVg4qGGu-kb1"
      }
    },
    {
      "cell_type": "code",
      "source": [
        " with cexs as (\n",
        "select\n",
        " address,\n",
        " label_type\n",
        "from ethereum.core.dim_labels\n",
        "where label_type = 'cex'\n",
        "),\n",
        "dexs as (\n",
        "select\n",
        " address,\n",
        " label_type\n",
        "from ethereum.core.dim_labels\n",
        "where label_type = 'dex'\n",
        "),\n",
        "base as (\n",
        "select\n",
        " block_timestamp,\n",
        " origin_from_address,\n",
        " from_address,\n",
        " to_address,\n",
        " amount,\n",
        " amount_usd\n",
        "from ethereum.core.ez_token_transfers\n",
        "where symbol = 'WETH'\n",
        "AND DATE_TRUNC('day', block_timestamp) >= '2021-01-01'\n",
        "    AND DATE_TRUNC('day', block_timestamp) < '2023-07-02'\n",
        "),\n",
        "to_dexs as (\n",
        "select\n",
        " date_trunc('day',block_timestamp) as day,\n",
        " count(distinct origin_from_address) as user_to_dex,\n",
        " sum(amount) as eth_to_dex,\n",
        " sum(amount_usd) as usd_to_dex\n",
        "from base join cexs\n",
        " on from_address = address\n",
        "where to_address in (select address from dexs)\n",
        " group by 1\n",
        "),\n",
        "to_cexs as (\n",
        "select\n",
        " date_trunc('day',block_timestamp) as date,\n",
        " count(distinct origin_from_address) as user_to_cex,\n",
        " sum(amount) as eth_to_cex,\n",
        " sum(amount_usd) as usd_to_cex\n",
        "from base join dexs\n",
        " on from_address = address\n",
        "where to_address in (select address from cexs)\n",
        " group by 1\n",
        ")\n",
        "select\n",
        " date,\n",
        " user_to_dex as \"USER --> DEX\",\n",
        " user_to_cex as \"USER --> CEX\",\n",
        " (user_to_cex - user_to_dex) as \"Net User\",\n",
        " eth_to_dex as \"Amount --> DEX\",\n",
        " eth_to_cex as \"Amount --> CEX\",\n",
        " (eth_to_cex - eth_to_dex) as \"Net Amount ETH\",\n",
        " usd_to_dex as \"Amount $ --> DEX\",\n",
        " usd_to_cex as \"Amount $ --> CEX\",\n",
        " (usd_to_cex - usd_to_dex) as \"Net Amount $\"\n",
        "from to_dexs join to_cexs\n",
        " on date = day\n",
        "ORDER BY date;"
      ],
      "metadata": {
        "id": "rKjvVOnZ-ai2"
      },
      "execution_count": null,
      "outputs": []
    }
  ]
}